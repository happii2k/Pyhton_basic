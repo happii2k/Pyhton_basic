{
  "nbformat": 4,
  "nbformat_minor": 0,
  "metadata": {
    "colab": {
      "provenance": []
    },
    "kernelspec": {
      "name": "python3",
      "display_name": "Python 3"
    },
    "language_info": {
      "name": "python"
    }
  },
  "cells": [
    {
      "cell_type": "markdown",
      "source": [
        "# Python Basics Question\n",
        "\n",
        "1. **What is Python, and why is it popular?**\n",
        "\n",
        "   \n",
        "\n",
        "*   Python is a high-level, interpreted programming language known for its\n",
        "simplicity and readability. It is popular because of its extensive libraries, cross-platform compatibility, ease of learning, and broad usage in web development, data science, AI, automation, and more.\n",
        "\n",
        "\n",
        "\n",
        "2. **What is an interpreter in Python?**  \n",
        "*   An interpreter is a program that executes Python code line by line, converting it into machine code at runtime.\n",
        "\n",
        "3. **What are pre-defined keywords in Python?**  \n",
        "*   Pre-defined keywords in Python are reserved words with special meanings, such as `if`, `else`, `while`, `for`, `def`, `import`, `class`, etc.\n",
        "\n",
        "4. **Can keywords be used as variable names?**  \n",
        "*   No, keywords cannot be used as variable names because they have predefined meanings in Python.\n",
        "\n",
        "5. **What is mutability in Python?**  \n",
        "*   Mutability refers to whether an object’s value can be changed after it is created. Mutable objects can be modified, while immutable objects cannot.\n",
        "\n",
        "6. **Why are lists mutable, but tuples are immutable?**  \n",
        "*   Lists are mutable because they allow modifications such as adding, removing, or changing elements. Tuples, on the other hand, are immutable to ensure data integrity and optimization in memory usage.\n",
        "\n",
        "7. **What is the difference between `==` and `is` operators in Python?**  \n",
        "*  `==` checks if two values are equal.  \n",
        "   `is` checks if two variables point to the same memory location (i.e., they are the same object).\n",
        "\n",
        "8. **What are logical operators in Python?**  \n",
        "*   Python has three logical operators:  \n",
        "    `and` → Returns `True` if both conditions are `True`.  \n",
        "    `or` → Returns `True` if at least one condition is `True`.  \n",
        "    `not` → Negates a Boolean expression.\n",
        "\n",
        "9. **What is type casting in Python?**  \n",
        "*   Type casting is the process of converting one data type into another, such as converting a string to an integer using `int()`.\n",
        "\n",
        "10. **What is the difference between implicit and explicit type casting?**  \n",
        "*     **Implicit type casting:** The Python interpreter automatically converts a smaller data type to a larger one (e.g., `int` to `float`).  \n",
        "     **Explicit type casting:** The programmer manually converts a data type using functions like `int()`, `float()`, `str()`, etc.\n",
        "\n",
        "11. **What is the purpose of conditional statements in Python?**  \n",
        "*    Conditional statements (`if`, `elif`, `else`) allow a program to execute different blocks of code based on certain conditions.\n",
        "\n",
        "12. **How does the `elif` statement work?**  \n",
        "*    The `elif` (short for \"else if\") statement checks additional conditions when the previous `if` condition is false.\n",
        "\n",
        "13. **What is the difference between `for` and `while` loops?**  \n",
        "*   `for` loop is used when the number of iterations is known.  \n",
        "   `while` loop runs until a specified condition becomes false.\n",
        "\n",
        "14. **Describe a scenario where a `while` loop is more suitable than a `for` loop.**  \n",
        "*    A `while` loop is more suitable when the number of iterations is unknown beforehand, such as waiting for user input or reading data from a sensor until a certain condition is met.\n",
        "\n"
      ],
      "metadata": {
        "id": "MHwYP36YGlQo"
      }
    },
    {
      "cell_type": "code",
      "source": [
        "#1. Write a Python program to print \"Hello, World!\"\n",
        "print(\"Hello, World!\")"
      ],
      "metadata": {
        "colab": {
          "base_uri": "https://localhost:8080/"
        },
        "id": "ciWnWZN1IKgZ",
        "outputId": "372b1bfc-9f02-4a05-894d-a30d8cfa95cf"
      },
      "execution_count": 1,
      "outputs": [
        {
          "output_type": "stream",
          "name": "stdout",
          "text": [
            "Hello, World!\n"
          ]
        }
      ]
    },
    {
      "cell_type": "code",
      "source": [
        "#2. Write a Python program that displays your name and age.\n",
        "name = \"Harsh Parihar\"  # Change this to your name\n",
        "age = 22  # Change this to your age\n",
        "print(f\"My name is {name} and I am {age} years old.\")"
      ],
      "metadata": {
        "colab": {
          "base_uri": "https://localhost:8080/"
        },
        "id": "VN7fEyLwImuL",
        "outputId": "6e626671-67b4-4e32-c715-5d3f5869471b"
      },
      "execution_count": 2,
      "outputs": [
        {
          "output_type": "stream",
          "name": "stdout",
          "text": [
            "My name is Harsh Parihar and I am 22 years old.\n"
          ]
        }
      ]
    },
    {
      "cell_type": "code",
      "source": [
        "#3 Write code to print all the pre-defined keywords in Python using the keyword library.\n",
        "import keyword\n",
        "print(keyword.kwlist)"
      ],
      "metadata": {
        "colab": {
          "base_uri": "https://localhost:8080/"
        },
        "id": "VV4cAPvkIyVD",
        "outputId": "96bd15db-5149-4834-e009-919a983abdce"
      },
      "execution_count": 3,
      "outputs": [
        {
          "output_type": "stream",
          "name": "stdout",
          "text": [
            "['False', 'None', 'True', 'and', 'as', 'assert', 'async', 'await', 'break', 'class', 'continue', 'def', 'del', 'elif', 'else', 'except', 'finally', 'for', 'from', 'global', 'if', 'import', 'in', 'is', 'lambda', 'nonlocal', 'not', 'or', 'pass', 'raise', 'return', 'try', 'while', 'with', 'yield']\n"
          ]
        }
      ]
    },
    {
      "cell_type": "code",
      "source": [
        "#4. Write a program that checks if a given word is a Python keyword.\n",
        "import keyword\n",
        "\n",
        "word = input(\"Enter a word: \")\n",
        "if keyword.iskeyword(word):\n",
        "    print(f\"'{word}' is a Python keyword.\")\n",
        "else:\n",
        "    print(f\"'{word}' is NOT a Python keyword.\")\n"
      ],
      "metadata": {
        "colab": {
          "base_uri": "https://localhost:8080/"
        },
        "id": "tPOYkrpZI9K9",
        "outputId": "70e66090-6801-476d-9643-d36c6431a563"
      },
      "execution_count": 4,
      "outputs": [
        {
          "output_type": "stream",
          "name": "stdout",
          "text": [
            "Enter a word: Happy\n",
            "'Happy' is NOT a Python keyword.\n"
          ]
        }
      ]
    },
    {
      "cell_type": "code",
      "source": [
        "#5. Write a function to demonstrate the behavior of mutable and immutable arguments.\n",
        "def modify_data(mutable_list, immutable_tuple):\n",
        "    mutable_list.append(100)  # Modifies the list\n",
        "    try:\n",
        "        immutable_tuple += (100,)  # Creates a new tuple instead of modifying\n",
        "    except TypeError as e:\n",
        "        print(f\"Error: {e}\")\n",
        "\n",
        "my_list = [1, 2, 3]\n",
        "my_tuple = (1, 2, 3)\n",
        "\n",
        "modify_data(my_list, my_tuple)\n",
        "print(\"List after function call:\", my_list)  # Modified\n",
        "print(\"Tuple after function call:\", my_tuple)  # Remains unchanged"
      ],
      "metadata": {
        "colab": {
          "base_uri": "https://localhost:8080/"
        },
        "id": "ZvpHWfJRJKqP",
        "outputId": "e17f7ca8-0186-494b-94af-d33ee318f651"
      },
      "execution_count": 5,
      "outputs": [
        {
          "output_type": "stream",
          "name": "stdout",
          "text": [
            "List after function call: [1, 2, 3, 100]\n",
            "Tuple after function call: (1, 2, 3)\n"
          ]
        }
      ]
    },
    {
      "cell_type": "code",
      "source": [
        "#6. Write a program that performs basic arithmetic operations on two user-input numbers.\n",
        "num1 = float(input(\"Enter first number: \"))\n",
        "num2 = float(input(\"Enter second number: \"))\n",
        "\n",
        "print(f\"Sum: {num1 + num2}\")\n",
        "print(f\"Difference: {num1 - num2}\")\n",
        "print(f\"Product: {num1 * num2}\")\n",
        "print(f\"Quotient: {num1 / num2 if num2 != 0 else 'Division by zero is not allowed'}\")\n"
      ],
      "metadata": {
        "colab": {
          "base_uri": "https://localhost:8080/"
        },
        "id": "WO0t2QPLL2Xv",
        "outputId": "66c56c66-8c11-4cf1-b085-5f8919325297"
      },
      "execution_count": 6,
      "outputs": [
        {
          "output_type": "stream",
          "name": "stdout",
          "text": [
            "Enter first number: 5\n",
            "Enter second number: 10\n",
            "Sum: 15.0\n",
            "Difference: -5.0\n",
            "Product: 50.0\n",
            "Quotient: 0.5\n"
          ]
        }
      ]
    },
    {
      "cell_type": "code",
      "source": [
        "#7. Write a program to demonstrate the use of logical operators.\n",
        "a, b = True, False\n",
        "\n",
        "print(\"a and b:\", a and b)\n",
        "print(\"a or b:\", a or b)\n",
        "print(\"not a:\", not a)"
      ],
      "metadata": {
        "colab": {
          "base_uri": "https://localhost:8080/"
        },
        "id": "t4AyQ9SdMP7m",
        "outputId": "5e020570-d76d-423c-b876-fbf8cf559cb2"
      },
      "execution_count": 7,
      "outputs": [
        {
          "output_type": "stream",
          "name": "stdout",
          "text": [
            "a and b: False\n",
            "a or b: True\n",
            "not a: False\n"
          ]
        }
      ]
    },
    {
      "cell_type": "code",
      "source": [
        "#8. Create a list and tuple in Python, and demonstrate how attempting to change an element works differently for each.\n",
        "my_list = [1, 2, 3]\n",
        "my_tuple = (1, 2, 3)\n",
        "\n",
        "my_list[0] = 100  # Allowed\n",
        "print(\"Modified list:\", my_list)\n",
        "\n",
        "try:\n",
        "    my_tuple[0] = 100  # Not allowed\n",
        "except TypeError as e:\n",
        "    print(\"Error:\", e)"
      ],
      "metadata": {
        "colab": {
          "base_uri": "https://localhost:8080/"
        },
        "id": "cCa1yGhKNF26",
        "outputId": "07ae4bd9-0303-4067-f8e3-589fb98b9a5e"
      },
      "execution_count": 8,
      "outputs": [
        {
          "output_type": "stream",
          "name": "stdout",
          "text": [
            "Modified list: [100, 2, 3]\n",
            "Error: 'tuple' object does not support item assignment\n"
          ]
        }
      ]
    },
    {
      "cell_type": "code",
      "source": [
        "#9. Write a Python program to convert user input from string to integer, float, and boolean types.\n",
        "user_input = input(\"Enter a value: \")\n",
        "\n",
        "int_value = int(user_input)  # Convert to integer\n",
        "float_value = float(user_input)  # Convert to float\n",
        "bool_value = bool(user_input)  # Convert to boolean\n",
        "\n",
        "print(f\"Integer: {int_value}, Float: {float_value}, Boolean: {bool_value}\")"
      ],
      "metadata": {
        "colab": {
          "base_uri": "https://localhost:8080/"
        },
        "id": "5roPl_BwNgKI",
        "outputId": "ab4cca72-26db-4522-b619-ee76caea1e1e"
      },
      "execution_count": 9,
      "outputs": [
        {
          "output_type": "stream",
          "name": "stdout",
          "text": [
            "Enter a value: 10\n",
            "Integer: 10, Float: 10.0, Boolean: True\n"
          ]
        }
      ]
    },
    {
      "cell_type": "code",
      "source": [
        "#10. Write code to demonstrate type casting with list elements.\n",
        "my_list = [\"10\", \"20.5\", \"True\"]\n",
        "converted_list = [int(float(item)) if item.replace('.', '', 1).isdigit() else item for item in my_list]\n",
        "\n",
        "print(\"Original list:\", my_list)\n",
        "print(\"Converted list:\", converted_list)"
      ],
      "metadata": {
        "colab": {
          "base_uri": "https://localhost:8080/"
        },
        "id": "JF51KZO0NxAW",
        "outputId": "e9d24485-d3bf-41c7-d06a-65af6d3cb4ea"
      },
      "execution_count": 10,
      "outputs": [
        {
          "output_type": "stream",
          "name": "stdout",
          "text": [
            "Original list: ['10', '20.5', 'True']\n",
            "Converted list: [10, 20, 'True']\n"
          ]
        }
      ]
    },
    {
      "cell_type": "code",
      "source": [
        "#11. Write a program that checks if a number is positive, negative, or zero.\n",
        "num = float(input(\"Enter a number: \"))\n",
        "\n",
        "if num > 0:\n",
        "    print(\"Positive number\")\n",
        "elif num < 0:\n",
        "    print(\"Negative number\")\n",
        "else:\n",
        "    print(\"Zero\")\n"
      ],
      "metadata": {
        "colab": {
          "base_uri": "https://localhost:8080/"
        },
        "id": "hWrX9JLrO0yD",
        "outputId": "4ff6591b-0e2a-41dd-dff1-402a387c680b"
      },
      "execution_count": 11,
      "outputs": [
        {
          "output_type": "stream",
          "name": "stdout",
          "text": [
            "Enter a number: 33\n",
            "Positive number\n"
          ]
        }
      ]
    },
    {
      "cell_type": "code",
      "source": [
        "# prompt: 12. Write a for loop to print numbers from 1 to 10.\n",
        "\n",
        "for i in range(1, 11):\n",
        "    print(i)"
      ],
      "metadata": {
        "colab": {
          "base_uri": "https://localhost:8080/"
        },
        "id": "CfEWDOVkPoEc",
        "outputId": "40d8d6de-5aa4-4b8a-bd5a-f5aefc9c2aee"
      },
      "execution_count": 12,
      "outputs": [
        {
          "output_type": "stream",
          "name": "stdout",
          "text": [
            "1\n",
            "2\n",
            "3\n",
            "4\n",
            "5\n",
            "6\n",
            "7\n",
            "8\n",
            "9\n",
            "10\n"
          ]
        }
      ]
    },
    {
      "cell_type": "code",
      "source": [
        "#13. Write a Python program to find the sum of all even numbers between 1 and 50.\n",
        "even_sum = sum(i for i in range(1, 51) if i % 2 == 0)\n",
        "print(\"Sum of even numbers between 1 and 50:\", even_sum)"
      ],
      "metadata": {
        "colab": {
          "base_uri": "https://localhost:8080/"
        },
        "id": "sjyLMM6fP6hH",
        "outputId": "bdf925bd-3325-4ee0-d953-0a1b3dc9a0a1"
      },
      "execution_count": 13,
      "outputs": [
        {
          "output_type": "stream",
          "name": "stdout",
          "text": [
            "Sum of even numbers between 1 and 50: 650\n"
          ]
        }
      ]
    },
    {
      "cell_type": "code",
      "source": [
        "#14. Write a program to reverse a string using a while loop.\n",
        "string = input(\"Enter a string: \")\n",
        "reversed_string = \"\"\n",
        "i = len(string) - 1\n",
        "\n",
        "while i >= 0:\n",
        "    reversed_string += string[i]\n",
        "    i -= 1\n",
        "\n",
        "print(\"Reversed string:\", reversed_string)"
      ],
      "metadata": {
        "colab": {
          "base_uri": "https://localhost:8080/"
        },
        "id": "FFK8sooRQE7d",
        "outputId": "35f2f85a-28a7-4133-b8b8-6563a990fd4a"
      },
      "execution_count": 14,
      "outputs": [
        {
          "output_type": "stream",
          "name": "stdout",
          "text": [
            "Enter a string: Happy is very stress\n",
            "Reversed string: sserts yrev si yppaH\n"
          ]
        }
      ]
    },
    {
      "cell_type": "code",
      "source": [
        "#15. Write a Python program to calculate the factorial of a number provided by the user using a while loop.\n",
        "num = int(input(\"Enter a number: \"))\n",
        "factorial = 1\n",
        "i = num\n",
        "\n",
        "while i > 1:\n",
        "    factorial *= i\n",
        "    i -= 1\n",
        "\n",
        "print(f\"Factorial of {num} is {factorial}\")"
      ],
      "metadata": {
        "colab": {
          "base_uri": "https://localhost:8080/"
        },
        "id": "ZfEI5qm7QST5",
        "outputId": "24556a01-5af7-467f-9a25-b6c6c3a48cef"
      },
      "execution_count": 15,
      "outputs": [
        {
          "output_type": "stream",
          "name": "stdout",
          "text": [
            "Enter a number: 123\n",
            "Factorial of 123 is 12146304367025329675766243241881295855454217088483382315328918161829235892362167668831156960612640202170735835221294047782591091570411651472186029519906261646730733907419814952960000000000000000000000000000\n"
          ]
        }
      ]
    }
  ]
}